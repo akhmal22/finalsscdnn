{
 "cells": [
  {
   "cell_type": "code",
   "execution_count": 1,
   "metadata": {},
   "outputs": [],
   "source": [
    "import h5py\n",
    "import matplotlib.pyplot as plt\n",
    "import numpy as np\n",
    "import PIL\n",
    "from pathlib import Path\n",
    "from PIL import Image"
   ]
  },
  {
   "cell_type": "code",
   "execution_count": 2,
   "metadata": {},
   "outputs": [],
   "source": [
    "def jpg_image_to_array(path_to_image):\n",
    "    '''\n",
    "        thanks to awnihannun\n",
    "    '''\n",
    "    avCheck = Path(path_to_image)\n",
    "    if avCheck.is_file():\n",
    "        with Image.open(path_to_image) as image:\n",
    "            im_arr = np.fromstring(image.tobytes(),dtype=np.uint8)\n",
    "            im_arr = im_arr.reshape((image.size[1],image.size[0],3))\n",
    "            \n",
    "        return im_arr\n",
    "    \n"
   ]
  },
  {
   "cell_type": "code",
   "execution_count": 3,
   "metadata": {},
   "outputs": [
    {
     "name": "stderr",
     "output_type": "stream",
     "text": [
      "/usr/lib/python3.6/site-packages/ipykernel_launcher.py:8: DeprecationWarning: The binary mode of fromstring is deprecated, as it behaves surprisingly on unicode inputs. Use frombuffer instead\n",
      "  \n"
     ]
    }
   ],
   "source": [
    "salju_list = []\n",
    "for itr in range(1,23):\n",
    "    salju_list.insert(itr-1,jpg_image_to_array(\"test//{}.jpg\".format(str(itr))))\n",
    "    #imga = jpg_image_to_array(\"img//img//{}.jpg\".format(str(counter+1).zfill(5)))"
   ]
  },
  {
   "cell_type": "code",
   "execution_count": 4,
   "metadata": {
    "scrolled": true
   },
   "outputs": [
    {
     "ename": "NameError",
     "evalue": "name 'salju_array' is not defined",
     "output_type": "error",
     "traceback": [
      "\u001b[0;31m---------------------------------------------------------------------------\u001b[0m",
      "\u001b[0;31mNameError\u001b[0m                                 Traceback (most recent call last)",
      "\u001b[0;32m<ipython-input-4-11aaa5885241>\u001b[0m in \u001b[0;36m<module>\u001b[0;34m\u001b[0m\n\u001b[1;32m      3\u001b[0m \u001b[0;31m#plt.imshow(img[index])\u001b[0m\u001b[0;34m\u001b[0m\u001b[0;34m\u001b[0m\u001b[0;34m\u001b[0m\u001b[0m\n\u001b[1;32m      4\u001b[0m \u001b[0msalju_arr\u001b[0m \u001b[0;34m=\u001b[0m \u001b[0mnp\u001b[0m\u001b[0;34m.\u001b[0m\u001b[0masarray\u001b[0m\u001b[0;34m(\u001b[0m\u001b[0msalju_list\u001b[0m\u001b[0;34m)\u001b[0m\u001b[0;34m\u001b[0m\u001b[0;34m\u001b[0m\u001b[0m\n\u001b[0;32m----> 5\u001b[0;31m \u001b[0msalju_arr\u001b[0m \u001b[0;34m=\u001b[0m \u001b[0msalju_array\u001b[0m\u001b[0;34m.\u001b[0m\u001b[0mastype\u001b[0m\u001b[0;34m(\u001b[0m\u001b[0mnp\u001b[0m\u001b[0;34m.\u001b[0m\u001b[0muint8\u001b[0m\u001b[0;34m)\u001b[0m\u001b[0;34m.\u001b[0m\u001b[0mravel\u001b[0m\u001b[0;34m(\u001b[0m\u001b[0;34m)\u001b[0m\u001b[0;34m\u001b[0m\u001b[0;34m\u001b[0m\u001b[0m\n\u001b[0m\u001b[1;32m      6\u001b[0m \u001b[0mprint\u001b[0m\u001b[0;34m(\u001b[0m\u001b[0msalju_arr\u001b[0m\u001b[0;34m)\u001b[0m\u001b[0;34m\u001b[0m\u001b[0;34m\u001b[0m\u001b[0m\n\u001b[1;32m      7\u001b[0m \u001b[0;31m#f = h5py.File('train_salju.h5','a')\u001b[0m\u001b[0;34m\u001b[0m\u001b[0;34m\u001b[0m\u001b[0;34m\u001b[0m\u001b[0m\n",
      "\u001b[0;31mNameError\u001b[0m: name 'salju_array' is not defined"
     ]
    }
   ],
   "source": [
    "#print(img)\n",
    "#index = 10\n",
    "#plt.imshow(img[index])\n",
    "salju_arr = np.asarray(salju_list)\n",
    "salju_arr = salju_arr.astype(np.uint8).ravel()\n",
    "print(salju_arr)\n",
    "#f = h5py.File('train_salju.h5','a')\n",
    "#f.create_dataset('set_x_tr', data=salju_arr)\n",
    "index = 0\n",
    "plt.imshow(salju_arr[index])\n",
    "train_dataset = h5py.File('../datasets/train_catvnoncat.h5', \"r\")\n",
    "train_set_x_orig = np.array(train_dataset[\"train_set_x\"][:])"
   ]
  },
  {
   "cell_type": "code",
   "execution_count": null,
   "metadata": {},
   "outputs": [],
   "source": [
    "#print(train_set_x_orig)\n",
    "print(jpg_image_to_array(\"test//{}.jpg\".format(str(itr))))\n",
    "indexes = 100\n",
    "plt.imshow(train_set_x_orig[indexes])"
   ]
  },
  {
   "cell_type": "code",
   "execution_count": null,
   "metadata": {},
   "outputs": [],
   "source": [
    "a = np.arange(51)\n",
    "a"
   ]
  },
  {
   "cell_type": "code",
   "execution_count": null,
   "metadata": {},
   "outputs": [],
   "source": [
    "np.insert(a,9,1)\n",
    "a"
   ]
  },
  {
   "cell_type": "code",
   "execution_count": null,
   "metadata": {},
   "outputs": [],
   "source": [
    "# scratching stuff\n",
    "\n",
    "'''\n",
    "\n",
    "import h5py\n",
    "import matplotlib as plt\n",
    "import numpy as np\n",
    "import PIL\n",
    "from PIL import Image\n",
    "\n",
    "\n",
    "\n",
    "def jpg_image_to_array(path_to_image):\n",
    "    '''\n",
    "        #thanks to awnihannun\n",
    "    '''\n",
    "    with Image.open(path_to_image) as image:\n",
    "        im_arr = np.fromstring(image.tobytes(),dtype=np.uint8)\n",
    "        im_arr = im_arr.reshape((image.size[1],image.size[0],3))\n",
    "\n",
    "    return im_arr\n",
    "\n",
    "#salju_array = np.empty_like(jpg_image_to_array(\"img//img//00001.jpg\"))\n",
    "#salju_list=[]\n",
    "counter = 1\n",
    "for itr in range(0,10):\n",
    "    img = jpg_image_to_array(\"img//img//{}.jpg\".format(str(counter).zfill(5)))\n",
    "    print(jpg_image_to_array(\"img//img//{}.jpg\".format(str(counter).zfill(5)))) \n",
    "    #salju_list.insert(itr,jpg_image_to_array(\"img//img//{}.jpg\".format(str(counter).zfill(5))))\n",
    "    #print(salju_list)\n",
    "    #salju_array.concatenate(salju_array,img,axis=0)\n",
    "    counter+=1\n",
    "\n",
    "index = 10\n",
    "plt.imshow(img[index])\n",
    "#salju_array = np.asarray(salju_list)\n",
    "#print(salju_array)\n",
    "\n",
    "#print(img)\n",
    "\n",
    "#readTrdset= h5py.File('../datasets/train_catvnoncat.h5','r')\n",
    "#trset_x = np.array(readTrdset[\"train_set_x\"][:])\n",
    "#trset_y = np.array(readTrdset[\"train_set_y\"][:])\n",
    "\n",
    "#print(trset_x)\n",
    "#index = 200\n",
    "#plt.imshow(trset_x[index])\n",
    "#print(\"image asarray: \")\n",
    "\n",
    "#im = Image.open(\"../smileypup.jpg\")\n",
    "#im.show()\n",
    "\n",
    "#print(jpg_image_to_array(\"../images/my_image.jpg\"))\n",
    "\n",
    "#list(im.getdata())\n",
    "\n",
    "#for pixel in iter(im.getdata()):\n",
    "#    print(pixel)\n",
    "'''\n"
   ]
  }
 ],
 "metadata": {
  "kernelspec": {
   "display_name": "Python 3",
   "language": "python",
   "name": "python3"
  },
  "language_info": {
   "codemirror_mode": {
    "name": "ipython",
    "version": 3
   },
   "file_extension": ".py",
   "mimetype": "text/x-python",
   "name": "python",
   "nbconvert_exporter": "python",
   "pygments_lexer": "ipython3",
   "version": "3.6.7"
  }
 },
 "nbformat": 4,
 "nbformat_minor": 2
}
